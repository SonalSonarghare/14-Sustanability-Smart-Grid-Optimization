{
  "nbformat": 4,
  "nbformat_minor": 0,
  "metadata": {
    "colab": {
      "provenance": []
    },
    "kernelspec": {
      "name": "python3",
      "display_name": "Python 3"
    },
    "language_info": {
      "name": "python"
    }
  },
  "cells": [
    {
      "cell_type": "code",
      "execution_count": 3,
      "metadata": {
        "id": "PbAuL44IEepm"
      },
      "outputs": [],
      "source": [
        "import pandas as pd\n",
        "from sklearn.model_selection import train_test_split\n",
        "import xgboost as xgb\n",
        "from sklearn.metrics import accuracy_score\n",
        "from sklearn.preprocessing import LabelEncoder\n",
        "import matplotlib.pyplot as plt\n",
        "\n",
        "# Load your dataset\n",
        "data_2019_to_2023 = pd.read_csv('grid_stability_data_2019-2023.csv')\n",
        "data_2024 = pd.read_csv('stability-2024.csv')\n",
        "\n",
        "data_2019_to_2023 = data_2019_to_2023.set_index('DateTime')\n",
        "data_2019_to_2023.index = pd.to_datetime(data_2019_to_2023.index, format='%d-%m-%Y %H:%M')\n",
        "\n",
        "# Encode categorical target variable\n",
        "label_encoder = LabelEncoder()\n",
        "data_2019_to_2023['stability'] = label_encoder.fit_transform(data_2019_to_2023['stability'])\n",
        "\n",
        "# Assuming 'stability' is the column you want to predict\n",
        "X = data_2019_to_2023.drop('stability', axis=1)  # Features\n",
        "y = data_2019_to_2023['stability']  # Target variable\n",
        "\n",
        "# Split data into training and testing sets\n",
        "X_train, X_test, y_train, y_test = train_test_split(X, y, test_size=0.2, random_state=42)\n",
        "\n",
        "# Initialize the XGBoost classifier\n",
        "xgboost_model = xgb.XGBClassifier(random_state=42)\n",
        "\n",
        "# Train the model\n",
        "xgboost_model.fit(X_train, y_train)\n",
        "\n",
        "# Ensure columns match between 2024 dataset and trained model\n",
        "data_2024_features = data_2024.drop('DateTime', axis=1)\n",
        "data_2024_features = data_2024_features[X.columns]\n",
        "\n",
        "# Predict stability for 2024 dataset\n",
        "predictions_2024 = xgboost_model.predict(data_2024_features)\n",
        "\n",
        "# Assuming you have a column 'id' to identify each row in the 2024 dataset\n",
        "data_2024['stability'] = label_encoder.inverse_transform(predictions_2024)  # Inverse transform to get original labels\n",
        "\n",
        "# Save or use the predictions as needed\n",
        "data_2024.to_csv('predicted_stability_2024_xgboost.csv', index=False)\n"
      ]
    },
    {
      "cell_type": "code",
      "source": [
        "# Predict stability for the test set\n",
        "predictions_test = xgboost_model.predict(X_test)\n",
        "\n",
        "# Calculate accuracy\n",
        "accuracy = accuracy_score(y_test, predictions_test)\n",
        "print(\"Accuracy of the XGBoost model:\", accuracy)\n"
      ],
      "metadata": {
        "colab": {
          "base_uri": "https://localhost:8080/"
        },
        "id": "QS0fryQzFWdV",
        "outputId": "c321b2d0-1287-4934-e4bb-5b5286db5c06"
      },
      "execution_count": 4,
      "outputs": [
        {
          "output_type": "stream",
          "name": "stdout",
          "text": [
            "Accuracy of the XGBoost model: 0.7043924700513405\n"
          ]
        }
      ]
    }
  ]
}