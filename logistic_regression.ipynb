{
  "nbformat": 4,
  "nbformat_minor": 0,
  "metadata": {
    "colab": {
      "provenance": []
    },
    "kernelspec": {
      "name": "python3",
      "display_name": "Python 3"
    },
    "language_info": {
      "name": "python"
    }
  },
  "cells": [
    {
      "cell_type": "code",
      "source": [
        "import pandas as pd\n",
        "from sklearn.model_selection import train_test_split\n",
        "from sklearn.linear_model import LogisticRegression\n",
        "from sklearn.impute import SimpleImputer\n",
        "from sklearn.pipeline import Pipeline\n",
        "from sklearn.metrics import accuracy_score\n",
        "import matplotlib.pyplot as plt\n",
        "\n",
        "# Load your dataset\n",
        "data_2019_to_2023 = pd.read_csv('grid_stability_data_2019-2023.csv')\n",
        "data_2024 = pd.read_csv('stability-2024.csv')\n",
        "\n",
        "data_2019_to_2023 = data_2019_to_2023.set_index('DateTime')\n",
        "data_2019_to_2023.index = pd.to_datetime(data_2019_to_2023.index, format='%d-%m-%Y %H:%M')\n",
        "\n",
        "# Assuming 'stability' is the column you want to predict\n",
        "X = data_2019_to_2023.drop('stability', axis=1)  # Features\n",
        "y = data_2019_to_2023['stability']  # Target variable\n",
        "\n",
        "# Split data into training and testing sets\n",
        "X_train, X_test, y_train, y_test = train_test_split(X, y, test_size=0.2, random_state=42)\n",
        "\n",
        "# Impute missing values\n",
        "imputer = SimpleImputer(strategy='mean')\n",
        "X_train_imputed = imputer.fit_transform(X_train)\n",
        "X_test_imputed = imputer.transform(X_test)\n",
        "\n",
        "# Initialize the Logistic Regression classifier\n",
        "logistic_regression_model = LogisticRegression(random_state=42)\n",
        "\n",
        "# Train the model\n",
        "logistic_regression_model.fit(X_train_imputed, y_train)\n",
        "\n",
        "# Ensure columns match between 2024 dataset and trained model\n",
        "data_2024_features = data_2024.drop('DateTime', axis=1)\n",
        "data_2024_features = data_2024_features[X.columns]\n",
        "\n",
        "# Impute missing values for 2024 dataset\n",
        "data_2024_features_imputed = imputer.transform(data_2024_features)\n",
        "\n",
        "# Predict stability for 2024 dataset\n",
        "predictions_2024 = logistic_regression_model.predict(data_2024_features_imputed)\n",
        "\n",
        "# Assuming you have a column 'id' to identify each row in the 2024 dataset\n",
        "data_2024['stability'] = predictions_2024\n",
        "\n",
        "# Save or use the predictions as needed\n",
        "data_2024.to_csv('predicted_stability_2024_logistic_regression.csv', index=False)\n"
      ],
      "metadata": {
        "id": "JzxHh-b-jGPN"
      },
      "execution_count": 2,
      "outputs": []
    },
    {
      "cell_type": "code",
      "source": [
        "# Predict stability for the test set\n",
        "predictions_test = logistic_regression_model.predict(X_test_imputed)\n",
        "\n",
        "# Calculate accuracy\n",
        "accuracy = accuracy_score(y_test, predictions_test)\n",
        "print(\"Accuracy of the Logistic Regression model:\", accuracy)\n"
      ],
      "metadata": {
        "colab": {
          "base_uri": "https://localhost:8080/"
        },
        "id": "mEGNJesa-zLk",
        "outputId": "31fa05fc-8857-4aec-cc94-27f3e7cd6e0b"
      },
      "execution_count": 3,
      "outputs": [
        {
          "output_type": "stream",
          "name": "stdout",
          "text": [
            "Accuracy of the Logistic Regression model: 0.7171705647461495\n"
          ]
        }
      ]
    }
  ]
}